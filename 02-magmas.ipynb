{
 "cells": [
  {
   "cell_type": "markdown",
   "metadata": {},
   "source": [
    "![magma to group](Magma_to_group4.svg)"
   ]
  },
  {
   "cell_type": "markdown",
   "metadata": {},
   "source": [
    "A Magma is simply a set of elements with a binary operation: no further restrictions are placed on it.\n",
    "\n",
    "\n",
    "Most of the algebraic structures we interact with are more strictly defined than that: for example, integer addition is **associative**, **invertible**, has an **identity element** "
   ]
  },
  {
   "cell_type": "markdown",
   "metadata": {},
   "source": [
    "An example of a binary operation that doesn't have these features is the game Rock, Paper, Scissors."
   ]
  },
  {
   "cell_type": "code",
   "execution_count": 1,
   "metadata": {},
   "outputs": [],
   "source": [
    "from enum import Enum \n",
    "\n",
    "class Hand(Enum):\n",
    "    rock='rock' \n",
    "    paper='paper'\n",
    "    scissors='scissors'\n",
    "    def __repr__(self):\n",
    "        return self.value\n",
    "    \n",
    "\n",
    "    def __mul__(left, right):\n",
    "        match [left, right]:\n",
    "            case [Hand.rock,Hand.rock]:return Hand.rock\n",
    "            case [Hand.rock,Hand.paper]:return Hand.paper\n",
    "            case [Hand.rock,Hand.scissors]:return Hand.rock\n",
    "\n",
    "            case [Hand.paper, Hand.rock]:return Hand.paper\n",
    "            case [Hand.paper, Hand.paper]:return Hand.paper\n",
    "            case [Hand.paper, Hand.scissors]:return Hand.scissors \n",
    "\n",
    "            case [Hand.scissors, Hand.rock]: return Hand.rock\n",
    "            case [Hand.scissors, Hand.paper]: return Hand.scissors\n",
    "            case [Hand.scissors, Hand.scissors]: return Hand.scissors \n",
    "            \n",
    "\n",
    "rock, paper, scissors  = Hand.rock, Hand.paper, Hand.scissors \n"
   ]
  },
  {
   "cell_type": "code",
   "execution_count": 2,
   "metadata": {},
   "outputs": [
    {
     "data": {
      "text/plain": [
       "[rock, paper, scissors]"
      ]
     },
     "execution_count": 2,
     "metadata": {},
     "output_type": "execute_result"
    }
   ],
   "source": [
    "hands=list(Hand)\n",
    "hands"
   ]
  },
  {
   "cell_type": "code",
   "execution_count": 3,
   "metadata": {},
   "outputs": [
    {
     "data": {
      "text/plain": [
       "{(rock, rock): rock,\n",
       " (rock, paper): paper,\n",
       " (rock, scissors): rock,\n",
       " (paper, rock): paper,\n",
       " (paper, paper): paper,\n",
       " (paper, scissors): scissors,\n",
       " (scissors, rock): rock,\n",
       " (scissors, paper): scissors,\n",
       " (scissors, scissors): scissors}"
      ]
     },
     "execution_count": 3,
     "metadata": {},
     "output_type": "execute_result"
    }
   ],
   "source": [
    "{ \n",
    "    (left, right):  left * right \n",
    "    for left in hands \n",
    "    for right in hands\n",
    "}"
   ]
  },
  {
   "cell_type": "markdown",
   "metadata": {},
   "source": [
    "This is not associative"
   ]
  },
  {
   "cell_type": "code",
   "execution_count": 4,
   "metadata": {},
   "outputs": [
    {
     "data": {
      "text/plain": [
       "rock"
      ]
     },
     "execution_count": 4,
     "metadata": {},
     "output_type": "execute_result"
    }
   ],
   "source": [
    "rock * (paper * scissors)"
   ]
  },
  {
   "cell_type": "code",
   "execution_count": 5,
   "metadata": {},
   "outputs": [
    {
     "data": {
      "text/plain": [
       "scissors"
      ]
     },
     "execution_count": 5,
     "metadata": {},
     "output_type": "execute_result"
    }
   ],
   "source": [
    "(rock*paper) * scissors "
   ]
  },
  {
   "cell_type": "markdown",
   "metadata": {},
   "source": [
    "This IS commutative"
   ]
  },
  {
   "cell_type": "code",
   "execution_count": 6,
   "metadata": {},
   "outputs": [
    {
     "data": {
      "text/plain": [
       "paper"
      ]
     },
     "execution_count": 6,
     "metadata": {},
     "output_type": "execute_result"
    }
   ],
   "source": [
    "rock*paper"
   ]
  },
  {
   "cell_type": "code",
   "execution_count": 7,
   "metadata": {},
   "outputs": [
    {
     "data": {
      "text/plain": [
       "paper"
      ]
     },
     "execution_count": 7,
     "metadata": {},
     "output_type": "execute_result"
    }
   ],
   "source": [
    "paper*rock"
   ]
  },
  {
   "cell_type": "markdown",
   "metadata": {},
   "source": []
  },
  {
   "cell_type": "markdown",
   "metadata": {},
   "source": []
  }
 ],
 "metadata": {
  "kernelspec": {
   "display_name": "Python 3",
   "language": "python",
   "name": "python3"
  },
  "language_info": {
   "codemirror_mode": {
    "name": "ipython",
    "version": 3
   },
   "file_extension": ".py",
   "mimetype": "text/x-python",
   "name": "python",
   "nbconvert_exporter": "python",
   "pygments_lexer": "ipython3",
   "version": "3.11.5"
  },
  "orig_nbformat": 4
 },
 "nbformat": 4,
 "nbformat_minor": 2
}
