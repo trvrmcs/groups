{
 "cells": [
  {
   "cell_type": "markdown",
   "metadata": {},
   "source": [
    "# Introductory questions\n",
    "\n",
    "\n",
    "1) How many values can a boolean have?\n",
    "2) How many values can a pair of booleans have?\n",
    "\n",
    "```\n",
    "class Foo:\n",
    "    a:bool \n",
    "    b:bool\n",
    "```\n",
    "\n",
    "3) How many possible functions are there from bool->bool?\n",
    "\n",
    "\n",
    "### Haskell\n",
    "```haskell\n",
    "\n",
    "type UnaryBooleanFunction = Bool -> Bool \n",
    "```\n",
    "\n",
    "\n",
    "## Python\n",
    "\n",
    "```python\n",
    "\n",
    "def foo(a:bool)->bool:\n",
    "    ...\n",
    "```"
   ]
  },
  {
   "cell_type": "markdown",
   "metadata": {},
   "source": [
    "Bool          -- Sum type\n",
    "\n",
    "(Bool, Bool)  -- Product type \n",
    "\n",
    "Bool -> Bool  -- Exponent type \n"
   ]
  },
  {
   "cell_type": "markdown",
   "metadata": {},
   "source": [
    "4. How many possible functions are there of type:\n",
    "\n",
    "```haskell\n",
    "Bool -> Bool -> Bool\n",
    "\n",
    "```\n",
    "\n",
    "in python:\n",
    "\n",
    "```python\n",
    "\n",
    "def foo(a:bool, b:bool)->bool:\n",
    "    ...\n",
    "```\n",
    "\n",
    "\n",
    "or equivalently\n",
    "\n",
    "```haskell\n",
    "\n",
    "\n",
    "(Bool, Bool)->Bool\n",
    "```\n"
   ]
  },
  {
   "cell_type": "markdown",
   "metadata": {},
   "source": [
    "# Binary operations "
   ]
  },
  {
   "cell_type": "markdown",
   "metadata": {},
   "source": [
    "Consider a set with only two elements.\n",
    "\n",
    "A binary operation on this set has four possible input pairs:"
   ]
  },
  {
   "cell_type": "code",
   "execution_count": 2,
   "metadata": {},
   "outputs": [],
   "source": [
    "bits = {0,1}\n",
    "bitpairs=[(x,y) for x in bits for y in bits]"
   ]
  },
  {
   "cell_type": "code",
   "execution_count": 3,
   "metadata": {},
   "outputs": [
    {
     "data": {
      "text/plain": [
       "[(0, 0), (0, 1), (1, 0), (1, 1)]"
      ]
     },
     "execution_count": 3,
     "metadata": {},
     "output_type": "execute_result"
    }
   ],
   "source": [
    "bitpairs"
   ]
  },
  {
   "cell_type": "markdown",
   "metadata": {},
   "source": [
    "How many possible binary operations exist with this type?\n",
    "\n",
    "```haskell\n",
    "Bit -> Bit -> Bit\n",
    "``` \n",
    "\n",
    "(Or in Python:)\n",
    "\n",
    "```python\n",
    "def binop(x:Bit, y:Bit)->Bit:\n",
    "    ...\n",
    "\n",
    "```"
   ]
  },
  {
   "cell_type": "code",
   "execution_count": 4,
   "metadata": {},
   "outputs": [],
   "source": [
    "class BinOp:\n",
    "    def __init__(self, a,b,c,d):\n",
    "        self.mapping={\n",
    "            (0,0):a,\n",
    "            (0,1):b,\n",
    "            (1,0):c,\n",
    "            (1,1):d,\n",
    "        }\n",
    "\n",
    "    def __call__(self, x, y):\n",
    "        return self.mapping[(x,y)]\n",
    "\n",
    "    def __repr__(self):\n",
    "        return f\"BinOp({','.join(str(v) for v in self.mapping.values())})\"\n"
   ]
  },
  {
   "cell_type": "code",
   "execution_count": 5,
   "metadata": {},
   "outputs": [
    {
     "data": {
      "text/plain": [
       "BinOp(1,0,0,0)"
      ]
     },
     "execution_count": 5,
     "metadata": {},
     "output_type": "execute_result"
    }
   ],
   "source": [
    "BinOp(1,0,0,0)"
   ]
  },
  {
   "cell_type": "code",
   "execution_count": 6,
   "metadata": {},
   "outputs": [],
   "source": [
    "ops = [\n",
    "    BinOp(a,b,c,d) \n",
    "    for a in bits  \n",
    "    for b in bits  \n",
    "    for c in bits  \n",
    "    for d in bits \n",
    "]"
   ]
  },
  {
   "cell_type": "code",
   "execution_count": 7,
   "metadata": {},
   "outputs": [
    {
     "data": {
      "text/plain": [
       "16"
      ]
     },
     "execution_count": 7,
     "metadata": {},
     "output_type": "execute_result"
    }
   ],
   "source": [
    "len(ops)"
   ]
  },
  {
   "cell_type": "code",
   "execution_count": 8,
   "metadata": {},
   "outputs": [
    {
     "data": {
      "text/plain": [
       "[BinOp(0,0,0,0),\n",
       " BinOp(0,0,0,1),\n",
       " BinOp(0,0,1,0),\n",
       " BinOp(0,0,1,1),\n",
       " BinOp(0,1,0,0),\n",
       " BinOp(0,1,0,1),\n",
       " BinOp(0,1,1,0),\n",
       " BinOp(0,1,1,1),\n",
       " BinOp(1,0,0,0),\n",
       " BinOp(1,0,0,1),\n",
       " BinOp(1,0,1,0),\n",
       " BinOp(1,0,1,1),\n",
       " BinOp(1,1,0,0),\n",
       " BinOp(1,1,0,1),\n",
       " BinOp(1,1,1,0),\n",
       " BinOp(1,1,1,1)]"
      ]
     },
     "execution_count": 8,
     "metadata": {},
     "output_type": "execute_result"
    }
   ],
   "source": [
    "ops"
   ]
  },
  {
   "cell_type": "code",
   "execution_count": 9,
   "metadata": {},
   "outputs": [
    {
     "data": {
      "text/plain": [
       "[0, 1, 0, 1, 0, 1, 0, 1, 0, 1, 0, 1, 0, 1, 0, 1]"
      ]
     },
     "execution_count": 9,
     "metadata": {},
     "output_type": "execute_result"
    }
   ],
   "source": [
    "[op(1,1) for op in ops]"
   ]
  },
  {
   "cell_type": "markdown",
   "metadata": {},
   "source": [
    "    associative \n",
    "    x* (y*z) == (x*y)*z\n",
    "\n",
    "    commutative \n",
    "\n",
    "    x*y == y*x \n",
    "\n",
    "    identity "
   ]
  },
  {
   "cell_type": "code",
   "execution_count": 10,
   "metadata": {},
   "outputs": [],
   "source": [
    "def is_associative(op):\n",
    "    return all(\n",
    "\n",
    "        op(x, op(y,z))==op(op(x,y),z)\n",
    "        for x in bits \n",
    "        for y in bits \n",
    "        for z in bits \n",
    "    )\n",
    "\n",
    "def is_commutative(op):\n",
    "    return all (\n",
    "        op(x,y) == op(y,x) \n",
    "        for x in bits \n",
    "        for y in bits\n",
    "    )\n",
    "\n",
    "def identity(op):\n",
    "\n",
    "    for candidate in bits:\n",
    "        if all(\n",
    "            op(candidate, bit)==bit==op(bit, candidate)\n",
    "            for bit in bits\n",
    "        ):\n",
    "            return candidate \n",
    "    return None"
   ]
  },
  {
   "cell_type": "code",
   "execution_count": 11,
   "metadata": {},
   "outputs": [
    {
     "name": "stdout",
     "output_type": "stream",
     "text": [
      "True\n",
      "True\n",
      "False\n",
      "True\n",
      "False\n",
      "True\n",
      "True\n",
      "True\n",
      "False\n",
      "True\n",
      "False\n",
      "False\n",
      "False\n",
      "False\n",
      "False\n",
      "True\n"
     ]
    }
   ],
   "source": [
    "for op in ops:\n",
    "    print(is_associative(op))"
   ]
  },
  {
   "cell_type": "code",
   "execution_count": 12,
   "metadata": {},
   "outputs": [
    {
     "name": "stdout",
     "output_type": "stream",
     "text": [
      "True\n",
      "True\n",
      "False\n",
      "False\n",
      "False\n",
      "False\n",
      "True\n",
      "True\n",
      "True\n",
      "True\n",
      "False\n",
      "False\n",
      "False\n",
      "False\n",
      "True\n",
      "True\n"
     ]
    }
   ],
   "source": [
    "for op in ops:\n",
    "    print(is_commutative(op))"
   ]
  },
  {
   "cell_type": "code",
   "execution_count": 13,
   "metadata": {},
   "outputs": [
    {
     "name": "stdout",
     "output_type": "stream",
     "text": [
      "None\n",
      "1\n",
      "None\n",
      "None\n",
      "None\n",
      "None\n",
      "0\n",
      "0\n",
      "None\n",
      "1\n",
      "None\n",
      "None\n",
      "None\n",
      "None\n",
      "None\n",
      "None\n"
     ]
    }
   ],
   "source": [
    " for op in ops:\n",
    "    print(identity(op))"
   ]
  },
  {
   "cell_type": "markdown",
   "metadata": {},
   "source": [
    "## Now let's assign meaning to these operations"
   ]
  },
  {
   "cell_type": "code",
   "execution_count": null,
   "metadata": {},
   "outputs": [],
   "source": []
  },
  {
   "cell_type": "code",
   "execution_count": 14,
   "metadata": {},
   "outputs": [],
   "source": [
    "NAMES={\n",
    "\n",
    "    (0,0,0,0):'0',\n",
    "    (0,0,0,1):'AND',\n",
    "    (0,0,1,0):'(x,y)==(1,0)',\n",
    "    (0,0,1,1):'x==1',\n",
    "    (0,1,0,0):'(x,y)==(0,1)',\n",
    "    (0,1,0,1):'y==1',\n",
    "    (0,1,1,0):'XOR',\n",
    "    (0,1,1,1):'OR',\n",
    "    (1,0,0,0):'NOR',\n",
    "    (1,0,0,1):'x==y',\n",
    "    (1,0,1,0):'!y',\n",
    "    (1,0,1,1):'(x,y)!=(0,1)',\n",
    "    (1,1,0,0):'!x',\n",
    "    (1,1,0,1):'(x,y)!=(1,0)',\n",
    "    (1,1,1,0):'NAND',\n",
    "    (1,1,1,1):'1',\n",
    "}\n",
    "\n",
    "def name(op):\n",
    "    return NAMES[tuple(op.mapping.values())]"
   ]
  },
  {
   "cell_type": "code",
   "execution_count": 15,
   "metadata": {},
   "outputs": [
    {
     "name": "stdout",
     "output_type": "stream",
     "text": [
      "BinOp(0,0,0,1)\n",
      "AND\n"
     ]
    },
    {
     "data": {
      "text/plain": [
       "BinOp(0,0,0,1)"
      ]
     },
     "execution_count": 15,
     "metadata": {},
     "output_type": "execute_result"
    }
   ],
   "source": [
    "AND = BinOp(0,0,0,1 )\n",
    "\n",
    "print(AND)\n",
    "print(name(AND))\n",
    "AND"
   ]
  },
  {
   "cell_type": "code",
   "execution_count": 16,
   "metadata": {},
   "outputs": [
    {
     "data": {
      "text/plain": [
       "0"
      ]
     },
     "execution_count": 16,
     "metadata": {},
     "output_type": "execute_result"
    }
   ],
   "source": [
    "AND(0,0)"
   ]
  },
  {
   "cell_type": "code",
   "execution_count": 17,
   "metadata": {},
   "outputs": [
    {
     "data": {
      "text/plain": [
       "0"
      ]
     },
     "execution_count": 17,
     "metadata": {},
     "output_type": "execute_result"
    }
   ],
   "source": [
    "AND(1,0)"
   ]
  },
  {
   "cell_type": "code",
   "execution_count": 18,
   "metadata": {},
   "outputs": [
    {
     "data": {
      "text/plain": [
       "1"
      ]
     },
     "execution_count": 18,
     "metadata": {},
     "output_type": "execute_result"
    }
   ],
   "source": [
    "AND(1,1)"
   ]
  },
  {
   "cell_type": "markdown",
   "metadata": {},
   "source": []
  },
  {
   "cell_type": "code",
   "execution_count": 19,
   "metadata": {},
   "outputs": [
    {
     "data": {
      "text/plain": [
       "'AND'"
      ]
     },
     "execution_count": 19,
     "metadata": {},
     "output_type": "execute_result"
    }
   ],
   "source": [
    "NAMES[tuple(BinOp(0,0,0,1).mapping.values())]"
   ]
  },
  {
   "cell_type": "code",
   "execution_count": null,
   "metadata": {},
   "outputs": [],
   "source": []
  },
  {
   "cell_type": "code",
   "execution_count": 20,
   "metadata": {},
   "outputs": [
    {
     "name": "stdout",
     "output_type": "stream",
     "text": [
      "0\n",
      "AND\n",
      "(x,y)==(1,0)\n",
      "x==1\n",
      "(x,y)==(0,1)\n",
      "y==1\n",
      "XOR\n",
      "OR\n",
      "NOR\n",
      "x==y\n",
      "!y\n",
      "(x,y)!=(0,1)\n",
      "!x\n",
      "(x,y)!=(1,0)\n",
      "NAND\n",
      "1\n"
     ]
    }
   ],
   "source": [
    "for op in ops:\n",
    "    print(name(op))"
   ]
  },
  {
   "cell_type": "code",
   "execution_count": null,
   "metadata": {},
   "outputs": [],
   "source": []
  },
  {
   "cell_type": "code",
   "execution_count": 21,
   "metadata": {},
   "outputs": [],
   "source": [
    "def print_op(op):\n",
    "    print(f'Name: {name(op)}')\n",
    "    print(\"\")\n",
    "    print(\"\\n\".join(\n",
    "        f\"({x},{y}) -> {op(x,y)}\"\n",
    "        for x in bits \n",
    "        for y in bits \n",
    "    ))\n",
    "\n",
    "    print('\\n')\n",
    "    print(f\"associative: {is_associative(op)}\")\n",
    "    print(f\"commutative: {is_commutative(op)}\")\n",
    "    print(f\"identity element: {identity(op)}\")\n",
    "    print('\\n\\n')\n"
   ]
  },
  {
   "cell_type": "code",
   "execution_count": 22,
   "metadata": {},
   "outputs": [
    {
     "name": "stdout",
     "output_type": "stream",
     "text": [
      "Name: 0\n",
      "\n",
      "(0,0) -> 0\n",
      "(0,1) -> 0\n",
      "(1,0) -> 0\n",
      "(1,1) -> 0\n",
      "\n",
      "\n",
      "associative: True\n",
      "commutative: True\n",
      "identity element: None\n",
      "\n",
      "\n",
      "\n",
      "Name: AND\n",
      "\n",
      "(0,0) -> 0\n",
      "(0,1) -> 0\n",
      "(1,0) -> 0\n",
      "(1,1) -> 1\n",
      "\n",
      "\n",
      "associative: True\n",
      "commutative: True\n",
      "identity element: 1\n",
      "\n",
      "\n",
      "\n",
      "Name: (x,y)==(1,0)\n",
      "\n",
      "(0,0) -> 0\n",
      "(0,1) -> 0\n",
      "(1,0) -> 1\n",
      "(1,1) -> 0\n",
      "\n",
      "\n",
      "associative: False\n",
      "commutative: False\n",
      "identity element: None\n",
      "\n",
      "\n",
      "\n",
      "Name: x==1\n",
      "\n",
      "(0,0) -> 0\n",
      "(0,1) -> 0\n",
      "(1,0) -> 1\n",
      "(1,1) -> 1\n",
      "\n",
      "\n",
      "associative: True\n",
      "commutative: False\n",
      "identity element: None\n",
      "\n",
      "\n",
      "\n",
      "Name: (x,y)==(0,1)\n",
      "\n",
      "(0,0) -> 0\n",
      "(0,1) -> 1\n",
      "(1,0) -> 0\n",
      "(1,1) -> 0\n",
      "\n",
      "\n",
      "associative: False\n",
      "commutative: False\n",
      "identity element: None\n",
      "\n",
      "\n",
      "\n",
      "Name: y==1\n",
      "\n",
      "(0,0) -> 0\n",
      "(0,1) -> 1\n",
      "(1,0) -> 0\n",
      "(1,1) -> 1\n",
      "\n",
      "\n",
      "associative: True\n",
      "commutative: False\n",
      "identity element: None\n",
      "\n",
      "\n",
      "\n",
      "Name: XOR\n",
      "\n",
      "(0,0) -> 0\n",
      "(0,1) -> 1\n",
      "(1,0) -> 1\n",
      "(1,1) -> 0\n",
      "\n",
      "\n",
      "associative: True\n",
      "commutative: True\n",
      "identity element: 0\n",
      "\n",
      "\n",
      "\n",
      "Name: OR\n",
      "\n",
      "(0,0) -> 0\n",
      "(0,1) -> 1\n",
      "(1,0) -> 1\n",
      "(1,1) -> 1\n",
      "\n",
      "\n",
      "associative: True\n",
      "commutative: True\n",
      "identity element: 0\n",
      "\n",
      "\n",
      "\n",
      "Name: NOR\n",
      "\n",
      "(0,0) -> 1\n",
      "(0,1) -> 0\n",
      "(1,0) -> 0\n",
      "(1,1) -> 0\n",
      "\n",
      "\n",
      "associative: False\n",
      "commutative: True\n",
      "identity element: None\n",
      "\n",
      "\n",
      "\n",
      "Name: x==y\n",
      "\n",
      "(0,0) -> 1\n",
      "(0,1) -> 0\n",
      "(1,0) -> 0\n",
      "(1,1) -> 1\n",
      "\n",
      "\n",
      "associative: True\n",
      "commutative: True\n",
      "identity element: 1\n",
      "\n",
      "\n",
      "\n",
      "Name: !y\n",
      "\n",
      "(0,0) -> 1\n",
      "(0,1) -> 0\n",
      "(1,0) -> 1\n",
      "(1,1) -> 0\n",
      "\n",
      "\n",
      "associative: False\n",
      "commutative: False\n",
      "identity element: None\n",
      "\n",
      "\n",
      "\n",
      "Name: (x,y)!=(0,1)\n",
      "\n",
      "(0,0) -> 1\n",
      "(0,1) -> 0\n",
      "(1,0) -> 1\n",
      "(1,1) -> 1\n",
      "\n",
      "\n",
      "associative: False\n",
      "commutative: False\n",
      "identity element: None\n",
      "\n",
      "\n",
      "\n",
      "Name: !x\n",
      "\n",
      "(0,0) -> 1\n",
      "(0,1) -> 1\n",
      "(1,0) -> 0\n",
      "(1,1) -> 0\n",
      "\n",
      "\n",
      "associative: False\n",
      "commutative: False\n",
      "identity element: None\n",
      "\n",
      "\n",
      "\n",
      "Name: (x,y)!=(1,0)\n",
      "\n",
      "(0,0) -> 1\n",
      "(0,1) -> 1\n",
      "(1,0) -> 0\n",
      "(1,1) -> 1\n",
      "\n",
      "\n",
      "associative: False\n",
      "commutative: False\n",
      "identity element: None\n",
      "\n",
      "\n",
      "\n",
      "Name: NAND\n",
      "\n",
      "(0,0) -> 1\n",
      "(0,1) -> 1\n",
      "(1,0) -> 1\n",
      "(1,1) -> 0\n",
      "\n",
      "\n",
      "associative: False\n",
      "commutative: True\n",
      "identity element: None\n",
      "\n",
      "\n",
      "\n",
      "Name: 1\n",
      "\n",
      "(0,0) -> 1\n",
      "(0,1) -> 1\n",
      "(1,0) -> 1\n",
      "(1,1) -> 1\n",
      "\n",
      "\n",
      "associative: True\n",
      "commutative: True\n",
      "identity element: None\n",
      "\n",
      "\n",
      "\n"
     ]
    }
   ],
   "source": [
    "for op in ops:\n",
    "    print_op(op)"
   ]
  },
  {
   "cell_type": "code",
   "execution_count": 23,
   "metadata": {},
   "outputs": [
    {
     "data": {
      "text/plain": [
       "1"
      ]
     },
     "execution_count": 23,
     "metadata": {},
     "output_type": "execute_result"
    }
   ],
   "source": [
    "op(1,0)"
   ]
  },
  {
   "cell_type": "markdown",
   "metadata": {},
   "source": [
    "## Alternative approach\n",
    "\n",
    "\n",
    "Instead of ascribing names to these functions we could just give them a number from 0-15."
   ]
  },
  {
   "cell_type": "code",
   "execution_count": 31,
   "metadata": {},
   "outputs": [],
   "source": [
    "def encoded(x,y)->int:\n",
    "    return  1 << (3-bitpairs.index((x,y)))\n",
    "\n",
    "'''\n",
    "Equivalent to: \n",
    "def encoded(x,y)->int:\n",
    "    return {\n",
    "            (0,0):0b1000,\n",
    "            (0,1):0b0100,\n",
    "            (1,0):0b0010,\n",
    "            (1,1):0b0001\n",
    "        }[(x,y)] \n",
    "'''\n",
    "\n",
    "class AlternativeBinOp:\n",
    "    def __init__(self, a,b,c,d):\n",
    "        self._name = (a<<3 ) | (b<<2) | (c<<1) | (d<<0)\n",
    "    \n",
    "    @property \n",
    "    def name(self):\n",
    "        return f'{self._name:04b}'\n",
    "    def __call__(self,x,y): \n",
    "        ''' \n",
    "            Now the implementation of the function is literally the same \n",
    "            as the name of the function.\n",
    "        '''\n",
    "        \n",
    "        return int(bool(encoded(x,y) & self._name ))\n",
    "        \n",
    "    def __repr__(self):\n",
    "\n",
    "        return f'BinOp {self.name}'\n"
   ]
  },
  {
   "cell_type": "code",
   "execution_count": 32,
   "metadata": {},
   "outputs": [
    {
     "data": {
      "text/plain": [
       "BinOp 0001"
      ]
     },
     "execution_count": 32,
     "metadata": {},
     "output_type": "execute_result"
    }
   ],
   "source": [
    "\n",
    "op= AlternativeBinOp(0,0,0,1)\n",
    "op"
   ]
  },
  {
   "cell_type": "code",
   "execution_count": 34,
   "metadata": {},
   "outputs": [
    {
     "data": {
      "text/plain": [
       "[0, 0, 0, 1]"
      ]
     },
     "execution_count": 34,
     "metadata": {},
     "output_type": "execute_result"
    }
   ],
   "source": [
    "[op(x,y) for (x,y) in bitpairs]"
   ]
  },
  {
   "cell_type": "code",
   "execution_count": null,
   "metadata": {},
   "outputs": [],
   "source": []
  }
 ],
 "metadata": {
  "kernelspec": {
   "display_name": "Python 3",
   "language": "python",
   "name": "python3"
  },
  "language_info": {
   "codemirror_mode": {
    "name": "ipython",
    "version": 3
   },
   "file_extension": ".py",
   "mimetype": "text/x-python",
   "name": "python",
   "nbconvert_exporter": "python",
   "pygments_lexer": "ipython3",
   "version": "3.11.5"
  },
  "orig_nbformat": 4
 },
 "nbformat": 4,
 "nbformat_minor": 2
}
