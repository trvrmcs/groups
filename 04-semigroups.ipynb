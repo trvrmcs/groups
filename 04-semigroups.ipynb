{
 "cells": [
  {
   "cell_type": "markdown",
   "metadata": {},
   "source": [
    "# Magmas, semigroups, Monoids, Groups\n",
    "\n",
    " "
   ]
  },
  {
   "cell_type": "markdown",
   "metadata": {},
   "source": [
    "### Here are the ways we can classify algebraic structures"
   ]
  },
  {
   "cell_type": "markdown",
   "metadata": {},
   "source": [
    "    Closure \t∀a,b∈S ⁣: a∙b∈S\n",
    "    Associativity \t∀a,b,c∈S ⁣: a∙(b∙c)=(a∙b)∙c\n",
    "    Identity \t∃e∈S ⁣: ∀a∈S ⁣: a∙e=e∙a=a\n",
    "    Inverse \t∀a∈S ⁣: ∃b∈S ⁣: a∙b=b∙a=e\n",
    "    Commutativity \t∀a,b∈S ⁣: a∙b=b∙a"
   ]
  },
  {
   "cell_type": "markdown",
   "metadata": {},
   "source": [
    "* Semigroups are magmas that are associative\n",
    "* Monoids are semigroups that have identity\n",
    "* Groups are monoids that are invertible\n",
    "* Abelian groups are groups that are commutative"
   ]
  },
  {
   "cell_type": "code",
   "execution_count": 7,
   "metadata": {},
   "outputs": [],
   "source": [
    "\n",
    "bits = {0,1}\n",
    "bitpairs=[(x,y) for x in bits for y in bits]\n",
    "class BinOp:\n",
    "    def __init__(self, a,b,c,d):\n",
    "        self.mapping={\n",
    "            (0,0):a,\n",
    "            (0,1):b,\n",
    "            (1,0):c,\n",
    "            (1,1):d,\n",
    "        }\n",
    "\n",
    "    def __call__(self, x, y):\n",
    "        return self.mapping[(x,y)]\n",
    "\n",
    "    def __repr__(self):\n",
    "        return f\"BinOp({','.join(str(v) for v in self.mapping.values())})\"\n"
   ]
  },
  {
   "cell_type": "code",
   "execution_count": 8,
   "metadata": {},
   "outputs": [],
   "source": [
    "ops = [\n",
    "    BinOp(a,b,c,d) \n",
    "    for a in bits for b in bits  \n",
    "    for c in bits for d in bits \n",
    "]"
   ]
  },
  {
   "cell_type": "code",
   "execution_count": 9,
   "metadata": {},
   "outputs": [],
   "source": [
    "def is_associative(op):\n",
    "    return all(\n",
    "\n",
    "        op(x, op(y,z))==op(op(x,y),z)\n",
    "        for x in bits \n",
    "        for y in bits \n",
    "        for z in bits \n",
    "    )\n",
    "\n",
    "def is_commutative(op):\n",
    "    return all (\n",
    "        op(x,y) == op(y,x) \n",
    "        for x in bits \n",
    "        for y in bits\n",
    "    )\n",
    "\n",
    "def identity(op):\n",
    "\n",
    "    for candidate in bits:\n",
    "        if all(\n",
    "            op(candidate, bit)==bit==op(bit, candidate)\n",
    "            for bit in bits\n",
    "        ):\n",
    "            return candidate \n",
    "\n",
    "def has_identity(op):\n",
    "    return identity(op) is not None \n",
    "    \n",
    " \n",
    "def inverse(op, element):\n",
    "    assert element in bits \n",
    "    I = identity(op)\n",
    "    if I is None: return None \n",
    "\n",
    "    for b in bits: \n",
    "        if (op(element,b)==I == op(b,element)):\n",
    "            return b \n",
    "    \n",
    "\n",
    "def is_invertible(op):\n",
    "    '''\n",
    "    For each a a in G G,\n",
    "         there exists an element b b in G G \n",
    "         such that a * b = e \n",
    "         and b * a = e\n",
    "         where e is the identity element.\n",
    "    \n",
    "    '''\n",
    "    I = identity(op)\n",
    "    if I is None:return False \n",
    "\n",
    "\n",
    "    return all(\n",
    "        inverse(op, a) is not None \n",
    "        for a in bits\n",
    "    )\n"
   ]
  },
  {
   "cell_type": "code",
   "execution_count": 10,
   "metadata": {},
   "outputs": [],
   "source": [
    "NAMES={\n",
    "\n",
    "    (0,0,0,0):'0',\n",
    "    (0,0,0,1):'AND',\n",
    "    (0,0,1,0):'(x,y)==(1,0)',\n",
    "    (0,0,1,1):'x==1',\n",
    "    (0,1,0,0):'(x,y)==(0,1)',\n",
    "    (0,1,0,1):'y==1',\n",
    "    (0,1,1,0):'XOR',\n",
    "    (0,1,1,1):'OR',\n",
    "    (1,0,0,0):'NOR',\n",
    "    (1,0,0,1):'x==y',\n",
    "    (1,0,1,0):'!y',\n",
    "    (1,0,1,1):'(x,y)!=(0,1)',\n",
    "    (1,1,0,0):'!x',\n",
    "    (1,1,0,1):'(x,y)!=(1,0)',\n",
    "    (1,1,1,0):'NAND',\n",
    "    (1,1,1,1):'1',\n",
    "}\n",
    "\n",
    "def name(op):\n",
    "    return NAMES[tuple(op.mapping.values())]"
   ]
  },
  {
   "cell_type": "code",
   "execution_count": 26,
   "metadata": {},
   "outputs": [
    {
     "data": {
      "text/plain": [
       "'a stringsomething else'"
      ]
     },
     "execution_count": 26,
     "metadata": {},
     "output_type": "execute_result"
    }
   ],
   "source": [
    "\"a string\" + \"something else\""
   ]
  },
  {
   "cell_type": "code",
   "execution_count": 28,
   "metadata": {},
   "outputs": [
    {
     "data": {
      "text/plain": [
       "True"
      ]
     },
     "execution_count": 28,
     "metadata": {},
     "output_type": "execute_result"
    }
   ],
   "source": [
    "(\"A\"+\"B\")+\"C\" == \"A\" + (\"B\"+\"C\")"
   ]
  },
  {
   "cell_type": "code",
   "execution_count": 11,
   "metadata": {},
   "outputs": [],
   "source": [
    "def structure(op):\n",
    "    if not is_associative(op):\n",
    "        return 'magma' \n",
    "    if not has_identity(op) :\n",
    "        return 'semigroup' \n",
    "    if not is_invertible(op):\n",
    "        return 'monoid'\n",
    "    if not is_commutative(op):\n",
    "        return 'group'\n",
    "    return 'abelian group'"
   ]
  },
  {
   "cell_type": "code",
   "execution_count": 12,
   "metadata": {},
   "outputs": [
    {
     "name": "stdout",
     "output_type": "stream",
     "text": [
      "BinOp(0,0,0,0)            0 : semigroup \n",
      "BinOp(0,0,0,1)          AND : monoid \n",
      "BinOp(0,0,1,0) (x,y)==(1,0) : magma \n",
      "BinOp(0,0,1,1)         x==1 : semigroup \n",
      "BinOp(0,1,0,0) (x,y)==(0,1) : magma \n",
      "BinOp(0,1,0,1)         y==1 : semigroup \n",
      "BinOp(0,1,1,0)          XOR : abelian group \n",
      "BinOp(0,1,1,1)           OR : monoid \n",
      "BinOp(1,0,0,0)          NOR : magma \n",
      "BinOp(1,0,0,1)         x==y : abelian group \n",
      "BinOp(1,0,1,0)           !y : magma \n",
      "BinOp(1,0,1,1) (x,y)!=(0,1) : magma \n",
      "BinOp(1,1,0,0)           !x : magma \n",
      "BinOp(1,1,0,1) (x,y)!=(1,0) : magma \n",
      "BinOp(1,1,1,0)         NAND : magma \n",
      "BinOp(1,1,1,1)            1 : semigroup \n"
     ]
    }
   ],
   "source": [
    "for op in ops:\n",
    "    print(f'''{op} {name(op): >12} : {structure(op)} ''')"
   ]
  },
  {
   "cell_type": "code",
   "execution_count": 14,
   "metadata": {},
   "outputs": [],
   "source": [
    "XOR = BinOp(0,1,1,0)"
   ]
  },
  {
   "cell_type": "code",
   "execution_count": 15,
   "metadata": {},
   "outputs": [
    {
     "data": {
      "text/plain": [
       "'XOR'"
      ]
     },
     "execution_count": 15,
     "metadata": {},
     "output_type": "execute_result"
    }
   ],
   "source": [
    "name(XOR)"
   ]
  },
  {
   "cell_type": "code",
   "execution_count": 16,
   "metadata": {},
   "outputs": [
    {
     "data": {
      "text/plain": [
       "'abelian group'"
      ]
     },
     "execution_count": 16,
     "metadata": {},
     "output_type": "execute_result"
    }
   ],
   "source": [
    "structure(XOR)"
   ]
  },
  {
   "cell_type": "code",
   "execution_count": 17,
   "metadata": {},
   "outputs": [
    {
     "data": {
      "text/plain": [
       "True"
      ]
     },
     "execution_count": 17,
     "metadata": {},
     "output_type": "execute_result"
    }
   ],
   "source": [
    "is_associative(XOR)"
   ]
  },
  {
   "cell_type": "code",
   "execution_count": 18,
   "metadata": {},
   "outputs": [
    {
     "data": {
      "text/plain": [
       "0"
      ]
     },
     "execution_count": 18,
     "metadata": {},
     "output_type": "execute_result"
    }
   ],
   "source": [
    "\n",
    "identity(XOR)"
   ]
  },
  {
   "cell_type": "code",
   "execution_count": 19,
   "metadata": {},
   "outputs": [
    {
     "data": {
      "text/plain": [
       "True"
      ]
     },
     "execution_count": 19,
     "metadata": {},
     "output_type": "execute_result"
    }
   ],
   "source": [
    "is_invertible(XOR)"
   ]
  },
  {
   "cell_type": "code",
   "execution_count": 20,
   "metadata": {},
   "outputs": [
    {
     "data": {
      "text/plain": [
       "0"
      ]
     },
     "execution_count": 20,
     "metadata": {},
     "output_type": "execute_result"
    }
   ],
   "source": [
    "inverse(XOR,0)"
   ]
  },
  {
   "cell_type": "code",
   "execution_count": 21,
   "metadata": {},
   "outputs": [
    {
     "data": {
      "text/plain": [
       "1"
      ]
     },
     "execution_count": 21,
     "metadata": {},
     "output_type": "execute_result"
    }
   ],
   "source": [
    "inverse(XOR,1)"
   ]
  },
  {
   "cell_type": "code",
   "execution_count": 22,
   "metadata": {},
   "outputs": [
    {
     "data": {
      "text/plain": [
       "True"
      ]
     },
     "execution_count": 22,
     "metadata": {},
     "output_type": "execute_result"
    }
   ],
   "source": [
    "a = 0 \n",
    "\n",
    "XOR(a,0) == XOR(0,a) == identity(XOR)"
   ]
  },
  {
   "cell_type": "code",
   "execution_count": 23,
   "metadata": {},
   "outputs": [
    {
     "data": {
      "text/plain": [
       "1"
      ]
     },
     "execution_count": 23,
     "metadata": {},
     "output_type": "execute_result"
    }
   ],
   "source": [
    "inverse(XOR,1)"
   ]
  },
  {
   "cell_type": "code",
   "execution_count": 24,
   "metadata": {},
   "outputs": [
    {
     "data": {
      "text/plain": [
       "True"
      ]
     },
     "execution_count": 24,
     "metadata": {},
     "output_type": "execute_result"
    }
   ],
   "source": [
    "a=1\n",
    "XOR(a,1) == XOR(1,a)==identity(XOR)  "
   ]
  },
  {
   "cell_type": "markdown",
   "metadata": {},
   "source": [
    "This is a bit counter-intuitive: the inverse of 0 is 0\n",
    "and the inverse of 1 is 1.\n",
    "\n",
    " "
   ]
  },
  {
   "cell_type": "code",
   "execution_count": 25,
   "metadata": {},
   "outputs": [
    {
     "data": {
      "text/plain": [
       "0"
      ]
     },
     "execution_count": 25,
     "metadata": {},
     "output_type": "execute_result"
    }
   ],
   "source": [
    "XOR(XOR(0,1),1)"
   ]
  },
  {
   "cell_type": "code",
   "execution_count": 106,
   "metadata": {},
   "outputs": [
    {
     "data": {
      "text/plain": [
       "0"
      ]
     },
     "execution_count": 106,
     "metadata": {},
     "output_type": "execute_result"
    }
   ],
   "source": [
    "XOR(XOR(0,0),0)"
   ]
  },
  {
   "cell_type": "code",
   "execution_count": 107,
   "metadata": {},
   "outputs": [
    {
     "data": {
      "text/plain": [
       "1"
      ]
     },
     "execution_count": 107,
     "metadata": {},
     "output_type": "execute_result"
    }
   ],
   "source": [
    "XOR(XOR(1,0),0)"
   ]
  },
  {
   "cell_type": "code",
   "execution_count": 108,
   "metadata": {},
   "outputs": [
    {
     "data": {
      "text/plain": [
       "1"
      ]
     },
     "execution_count": 108,
     "metadata": {},
     "output_type": "execute_result"
    }
   ],
   "source": [
    "XOR(XOR(1,1),1)"
   ]
  },
  {
   "cell_type": "code",
   "execution_count": null,
   "metadata": {},
   "outputs": [],
   "source": []
  }
 ],
 "metadata": {
  "kernelspec": {
   "display_name": "Python 3",
   "language": "python",
   "name": "python3"
  },
  "language_info": {
   "codemirror_mode": {
    "name": "ipython",
    "version": 3
   },
   "file_extension": ".py",
   "mimetype": "text/x-python",
   "name": "python",
   "nbconvert_exporter": "python",
   "pygments_lexer": "ipython3",
   "version": "3.11.5"
  },
  "orig_nbformat": 4
 },
 "nbformat": 4,
 "nbformat_minor": 2
}
