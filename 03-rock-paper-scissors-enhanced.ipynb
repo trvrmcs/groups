{
 "cells": [
  {
   "cell_type": "code",
   "execution_count": 1,
   "metadata": {},
   "outputs": [],
   "source": [
    "from enum import Enum \n",
    "\n",
    "class Hand(Enum):\n",
    "    rock='rock' \n",
    "    paper='paper'\n",
    "    scissors='scissors'\n",
    "    lizard='lizard'\n",
    "    spock='spock'\n",
    "\n",
    "    def __repr__(self):\n",
    "        return self.value\n",
    "    \n",
    "    @classmethod \n",
    "    def winners(cls):\n",
    "            \n",
    "        return [\n",
    "            (Hand.rock, Hand.scissors), # rock blunts scissors\n",
    "            (Hand.rock, Hand.lizard),   # rock crushes lizard\n",
    "\n",
    "            (Hand.paper, Hand.rock), # paper covers rock\n",
    "            (Hand.paper, Hand.spock), # paper disproves spock\n",
    "\n",
    "            (Hand.scissors, Hand.paper), # scissors cuts paper \n",
    "            (Hand.scissors, Hand.lizard), # scissors decapitates lizard\n",
    "\n",
    "            (Hand.lizard, Hand.paper),  # lizard eats paper\n",
    "            (Hand.lizard, Hand.spock) , #lizard poisons spock \n",
    "\n",
    "            (Hand.spock, Hand.rock),   # spock vaporizes rock\n",
    "            (Hand.spock, Hand.scissors) # spock smashes scissors\n",
    "        ]\n",
    "\n",
    "    def __mul__(left,right):\n",
    "        if left==right: return left\n",
    "\n",
    "        if (left, right) in Hand.winners():\n",
    "            return left \n",
    "\n",
    "        if (right, left) in Hand.winners():\n",
    "            return right   \n",
    "        assert 0, (left, right)\n",
    "\n",
    "\n",
    "rock, paper, scissors, lizard, spock  = Hand.rock, Hand.paper, Hand.scissors, Hand.lizard, Hand.spock\n",
    "\n"
   ]
  },
  {
   "cell_type": "code",
   "execution_count": 2,
   "metadata": {},
   "outputs": [
    {
     "data": {
      "text/plain": [
       "paper"
      ]
     },
     "execution_count": 2,
     "metadata": {},
     "output_type": "execute_result"
    }
   ],
   "source": [
    "paper*rock"
   ]
  },
  {
   "cell_type": "code",
   "execution_count": 3,
   "metadata": {},
   "outputs": [
    {
     "data": {
      "text/plain": [
       "{(paper, paper): paper,\n",
       " (paper, spock): paper,\n",
       " (paper, lizard): lizard,\n",
       " (paper, scissors): scissors,\n",
       " (paper, rock): paper,\n",
       " (spock, paper): paper,\n",
       " (spock, spock): spock,\n",
       " (spock, lizard): lizard,\n",
       " (spock, scissors): spock,\n",
       " (spock, rock): spock,\n",
       " (lizard, paper): lizard,\n",
       " (lizard, spock): lizard,\n",
       " (lizard, lizard): lizard,\n",
       " (lizard, scissors): scissors,\n",
       " (lizard, rock): rock,\n",
       " (scissors, paper): scissors,\n",
       " (scissors, spock): spock,\n",
       " (scissors, lizard): scissors,\n",
       " (scissors, scissors): scissors,\n",
       " (scissors, rock): rock,\n",
       " (rock, paper): paper,\n",
       " (rock, spock): spock,\n",
       " (rock, lizard): rock,\n",
       " (rock, scissors): rock,\n",
       " (rock, rock): rock}"
      ]
     },
     "execution_count": 3,
     "metadata": {},
     "output_type": "execute_result"
    }
   ],
   "source": [
    "hands = set(Hand)\n",
    "{ \n",
    "    (left, right):  left * right \n",
    "    for left in hands \n",
    "    for right in hands\n",
    "}"
   ]
  },
  {
   "cell_type": "markdown",
   "metadata": {},
   "source": [
    "And as before, this is commutative but not associative."
   ]
  },
  {
   "cell_type": "code",
   "execution_count": 4,
   "metadata": {},
   "outputs": [
    {
     "data": {
      "text/plain": [
       "True"
      ]
     },
     "execution_count": 4,
     "metadata": {},
     "output_type": "execute_result"
    }
   ],
   "source": [
    "lizard*spock == spock * lizard "
   ]
  },
  {
   "cell_type": "code",
   "execution_count": 5,
   "metadata": {},
   "outputs": [
    {
     "data": {
      "text/plain": [
       "spock"
      ]
     },
     "execution_count": 5,
     "metadata": {},
     "output_type": "execute_result"
    }
   ],
   "source": [
    "(rock * lizard) * spock"
   ]
  },
  {
   "cell_type": "code",
   "execution_count": 6,
   "metadata": {},
   "outputs": [
    {
     "data": {
      "text/plain": [
       "rock"
      ]
     },
     "execution_count": 6,
     "metadata": {},
     "output_type": "execute_result"
    }
   ],
   "source": [
    "rock * (lizard*spock)"
   ]
  },
  {
   "cell_type": "markdown",
   "metadata": {},
   "source": []
  }
 ],
 "metadata": {
  "kernelspec": {
   "display_name": "Python 3",
   "language": "python",
   "name": "python3"
  },
  "language_info": {
   "codemirror_mode": {
    "name": "ipython",
    "version": 3
   },
   "file_extension": ".py",
   "mimetype": "text/x-python",
   "name": "python",
   "nbconvert_exporter": "python",
   "pygments_lexer": "ipython3",
   "version": "3.11.5"
  },
  "orig_nbformat": 4
 },
 "nbformat": 4,
 "nbformat_minor": 2
}
